{
  "nbformat": 4,
  "nbformat_minor": 0,
  "metadata": {
    "colab": {
      "provenance": [],
      "gpuType": "T4"
    },
    "kernelspec": {
      "name": "python3",
      "display_name": "Python 3"
    },
    "language_info": {
      "name": "python"
    },
    "accelerator": "GPU"
  },
  "cells": [
    {
      "cell_type": "code",
      "source": [
        "!pip install pymupdf"
      ],
      "metadata": {
        "colab": {
          "base_uri": "https://localhost:8080/"
        },
        "id": "9Th_3TO9DnuE",
        "outputId": "00825593-fe35-4584-efa0-95d293651178"
      },
      "execution_count": null,
      "outputs": [
        {
          "output_type": "stream",
          "name": "stdout",
          "text": [
            "Collecting pymupdf\n",
            "  Downloading PyMuPDF-1.24.13-cp39-abi3-manylinux2014_x86_64.manylinux_2_17_x86_64.whl.metadata (3.4 kB)\n",
            "Downloading PyMuPDF-1.24.13-cp39-abi3-manylinux2014_x86_64.manylinux_2_17_x86_64.whl (19.8 MB)\n",
            "\u001b[2K   \u001b[90m━━━━━━━━━━━━━━━━━━━━━━━━━━━━━━━━━━━━━━━━\u001b[0m \u001b[32m19.8/19.8 MB\u001b[0m \u001b[31m28.2 MB/s\u001b[0m eta \u001b[36m0:00:00\u001b[0m\n",
            "\u001b[?25hInstalling collected packages: pymupdf\n",
            "Successfully installed pymupdf-1.24.13\n"
          ]
        }
      ]
    },
    {
      "cell_type": "code",
      "execution_count": null,
      "metadata": {
        "colab": {
          "base_uri": "https://localhost:8080/"
        },
        "id": "wmrDYTsLDa6E",
        "outputId": "10ccc735-00c7-42d4-d6a1-b1be7f5d7221"
      },
      "outputs": [
        {
          "output_type": "stream",
          "name": "stdout",
          "text": [
            "Mounted at /content/drive\n"
          ]
        }
      ],
      "source": [
        "from google.colab import drive\n",
        "drive.mount('/content/drive')"
      ]
    },
    {
      "cell_type": "markdown",
      "source": [
        "**Extract texts from pdfs and save them in individual text files.**"
      ],
      "metadata": {
        "id": "H9F2z1iCzBO3"
      }
    },
    {
      "cell_type": "code",
      "source": [
        "import fitz\n",
        "\n",
        "# read\n",
        "pdf_folder = '/content/drive/My Drive/01 HiWi Amase/'\n",
        "\n",
        "# save\n",
        "text_folder = '/content/drive/My Drive/01 HiWi Amase/text/'\n",
        "\n",
        "\n",
        "texts = []\n",
        "\n",
        "for i in range(1, 31):\n",
        "    pdf_path = f'{pdf_folder}{i}.pdf'\n",
        "    text_path = f'{text_folder}pdf{i}.txt'\n",
        "\n",
        "    with fitz.open(pdf_path) as pdf_file:\n",
        "        pdf_text = \"\"\n",
        "        for page in pdf_file:\n",
        "            pdf_text += page.get_text()\n",
        "\n",
        "    with open(text_path, 'w', encoding='utf-8') as text_file:\n",
        "        text_file.write(pdf_text)\n",
        "\n",
        "    texts.append(pdf_text)"
      ],
      "metadata": {
        "id": "MS3LY5bUDoNx"
      },
      "execution_count": null,
      "outputs": []
    },
    {
      "cell_type": "markdown",
      "source": [
        "**Merge all the text data into 1 text file and save them, as well as the number of sentences and word count.**"
      ],
      "metadata": {
        "id": "dtl0wfewzWn6"
      }
    },
    {
      "cell_type": "code",
      "source": [
        "# Combine all texts into a single variable\n",
        "finalpdf = \"\\n\".join(texts)"
      ],
      "metadata": {
        "id": "5lqndNi_DonX"
      },
      "execution_count": null,
      "outputs": []
    },
    {
      "cell_type": "code",
      "source": [
        "finalpdf_path = '/content/drive/My Drive/01 HiWi Amase/final dataset/finalpdf.txt'\n",
        "\n",
        "# Save as a text file\n",
        "with open(finalpdf_path, 'w', encoding='utf-8') as file:\n",
        "    file.write(finalpdf)"
      ],
      "metadata": {
        "id": "aqxNmOeVEnH7"
      },
      "execution_count": null,
      "outputs": []
    },
    {
      "cell_type": "code",
      "source": [
        "import nltk\n",
        "nltk.download('punkt')\n",
        "nltk.download('punkt_tab')"
      ],
      "metadata": {
        "colab": {
          "base_uri": "https://localhost:8080/"
        },
        "id": "zDOxSmQ6DoxJ",
        "outputId": "a5f2cd0c-b6ea-4f64-bcaa-159e015f370b"
      },
      "execution_count": null,
      "outputs": [
        {
          "output_type": "stream",
          "name": "stderr",
          "text": [
            "[nltk_data] Downloading package punkt to /root/nltk_data...\n",
            "[nltk_data]   Unzipping tokenizers/punkt.zip.\n",
            "[nltk_data] Downloading package punkt_tab to /root/nltk_data...\n",
            "[nltk_data]   Unzipping tokenizers/punkt_tab.zip.\n"
          ]
        },
        {
          "output_type": "execute_result",
          "data": {
            "text/plain": [
              "True"
            ]
          },
          "metadata": {},
          "execution_count": 6
        }
      ]
    },
    {
      "cell_type": "code",
      "source": [
        "from nltk.tokenize import sent_tokenize, word_tokenize\n",
        "\n",
        "\n",
        "finalpdf_path = '/content/drive/My Drive/01 HiWi Amase/final dataset/finalpdf.txt'\n",
        "with open(finalpdf_path, 'r', encoding='utf-8') as file:\n",
        "    finalpdf = file.read()\n",
        "\n",
        "# Count sentences\n",
        "sentences = sent_tokenize(finalpdf)\n",
        "sentence_count = len(sentences)\n",
        "\n",
        "# Count words\n",
        "words = word_tokenize(finalpdf)\n",
        "word_count = len(words)\n",
        "\n",
        "print(f\"Number of sentences: {sentence_count}\")\n",
        "print(f\"Number of words: {word_count}\")"
      ],
      "metadata": {
        "colab": {
          "base_uri": "https://localhost:8080/"
        },
        "id": "zgGug5RtFFhS",
        "outputId": "7f0cdf65-e18a-4774-aa86-f8732006b286"
      },
      "execution_count": null,
      "outputs": [
        {
          "output_type": "stream",
          "name": "stdout",
          "text": [
            "Number of sentences: 43251\n",
            "Number of words: 835956\n"
          ]
        }
      ]
    }
  ]
}